{
 "cells": [
  {
   "cell_type": "code",
   "execution_count": 1,
   "metadata": {},
   "outputs": [
    {
     "ename": "IndentationError",
     "evalue": "unindent does not match any outer indentation level (<ipython-input-1-3eb4408b6c6b>, line 17)",
     "output_type": "error",
     "traceback": [
      "\u001b[0;36m  File \u001b[0;32m\"<ipython-input-1-3eb4408b6c6b>\"\u001b[0;36m, line \u001b[0;32m17\u001b[0m\n\u001b[0;31m    if comp == \"scissors\":\u001b[0m\n\u001b[0m                          ^\u001b[0m\n\u001b[0;31mIndentationError\u001b[0m\u001b[0;31m:\u001b[0m unindent does not match any outer indentation level\n"
     ]
    }
   ],
   "source": [
    "import random  \n",
    "user = input(\"Choose your weapon\")\n",
    "print(user)\n",
    "\n",
    "List = [\"rock\", \"paper\", \"scissors\"]\n",
    "comp = random.choice(List)\n",
    "print(comp)\n",
    "\n",
    "if user == comp: \n",
    "    return('We just tie')\n",
    "\n",
    "#elif:           elif 后面一定要加条件，像if一样\n",
    "#    if user == \"paper\":\n",
    "elif user == \"paper\": \n",
    "    if comp == \"rock\":\n",
    "        return \"Ha! I really chose paper -- I WIN!\"\n",
    "        if comp == \"scissors\":\n",
    "            return \"OMG, I lost!\""
   ]
  },
  {
   "cell_type": "code",
   "execution_count": null,
   "metadata": {},
   "outputs": [],
   "source": []
  }
 ],
 "metadata": {
  "kernelspec": {
   "display_name": "Python 3",
   "language": "python",
   "name": "python3"
  },
  "language_info": {
   "codemirror_mode": {
    "name": "ipython",
    "version": 3
   },
   "file_extension": ".py",
   "mimetype": "text/x-python",
   "name": "python",
   "nbconvert_exporter": "python",
   "pygments_lexer": "ipython3",
   "version": "3.6.5"
  }
 },
 "nbformat": 4,
 "nbformat_minor": 2
}
